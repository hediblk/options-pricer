{
 "cells": [
  {
   "cell_type": "markdown",
   "id": "e4b02666",
   "metadata": {},
   "source": [
    "# Black-Scholes Option Pricer Analysis"
   ]
  },
  {
   "cell_type": "code",
   "execution_count": 1,
   "id": "c473b66c",
   "metadata": {},
   "outputs": [
    {
     "ename": "ModuleNotFoundError",
     "evalue": "No module named 'src'",
     "output_type": "error",
     "traceback": [
      "\u001b[0;31m---------------------------------------------------------------------------\u001b[0m",
      "\u001b[0;31mModuleNotFoundError\u001b[0m                       Traceback (most recent call last)",
      "Cell \u001b[0;32mIn[1], line 3\u001b[0m\n\u001b[1;32m      1\u001b[0m \u001b[38;5;28;01mimport\u001b[39;00m \u001b[38;5;21;01mnumpy\u001b[39;00m \u001b[38;5;28;01mas\u001b[39;00m \u001b[38;5;21;01mnp\u001b[39;00m\n\u001b[1;32m      2\u001b[0m \u001b[38;5;28;01mimport\u001b[39;00m \u001b[38;5;21;01mmatplotlib\u001b[39;00m\u001b[38;5;21;01m.\u001b[39;00m\u001b[38;5;21;01mpyplot\u001b[39;00m \u001b[38;5;28;01mas\u001b[39;00m \u001b[38;5;21;01mplt\u001b[39;00m\n\u001b[0;32m----> 3\u001b[0m \u001b[38;5;28;01mfrom\u001b[39;00m \u001b[38;5;21;01msrc\u001b[39;00m \u001b[38;5;28;01mimport\u001b[39;00m BlackScholesPricer\n\u001b[1;32m      5\u001b[0m plt\u001b[38;5;241m.\u001b[39mstyle\u001b[38;5;241m.\u001b[39muse(\u001b[38;5;124m'\u001b[39m\u001b[38;5;124mseaborn-v0_8-whitegrid\u001b[39m\u001b[38;5;124m'\u001b[39m)\n",
      "\u001b[0;31mModuleNotFoundError\u001b[0m: No module named 'src'"
     ]
    }
   ],
   "source": [
    "import numpy as np\n",
    "import matplotlib.pyplot as plt\n",
    "from src import BlackScholesPricer\n",
    "\n",
    "plt.style.use('seaborn-v0_8-whitegrid')"
   ]
  },
  {
   "cell_type": "markdown",
   "id": "c91c8569",
   "metadata": {},
   "source": [
    "## 1. Basic Call Option Pricing"
   ]
  },
  {
   "cell_type": "code",
   "execution_count": null,
   "id": "6ff4677b",
   "metadata": {},
   "outputs": [],
   "source": [
    "S = 100  # underlying price\n",
    "K = 105  # strike\n",
    "T = 1    # time until expiration in years\n",
    "r = 0.05 # risk free rate\n",
    "sigma = 0.2 # vol\n",
    "\n",
    "call_option = BlackScholesPricer(S, K, T, r, sigma, call=True)\n",
    "print(f\"The price of the call option is: {call_option.price:.2f}\")"
   ]
  },
  {
   "cell_type": "markdown",
   "id": "66eee5a8",
   "metadata": {},
   "source": [
    "## 2. Basic Put Option Pricing"
   ]
  },
  {
   "cell_type": "code",
   "execution_count": null,
   "id": "b7899085",
   "metadata": {},
   "outputs": [],
   "source": [
    "put_option = BlackScholesPricer(S, K, T, r, sigma, call=False)\n",
    "print(f\"The price of the put option is: {put_option.price:.2f}\")"
   ]
  },
  {
   "cell_type": "markdown",
   "id": "d902c605",
   "metadata": {},
   "source": [
    "## 3. Option Pricing with a given ticker\n",
    "We can use the options pricer to fetch the latest price of an option using a ticker symbol and use that as our `S` value. "
   ]
  },
  {
   "cell_type": "code",
   "execution_count": null,
   "id": "bf2d7d9c",
   "metadata": {},
   "outputs": [],
   "source": [
    "example_ticker = \"SPY\"\n",
    "spy_option = BlackScholesPricer(ticker=example_ticker, K=700)\n",
    "print(f\"The latest price for {example_ticker} is ${spy_option.S:.2f}\")"
   ]
  },
  {
   "cell_type": "code",
   "execution_count": null,
   "id": "2473c884",
   "metadata": {},
   "outputs": [],
   "source": [
    "spy_option"
   ]
  },
  {
   "cell_type": "markdown",
   "id": "eba4bcc7",
   "metadata": {},
   "source": [
    "## 4. Option Price vs. Spot Price"
   ]
  },
  {
   "cell_type": "code",
   "execution_count": null,
   "id": "2c60c53d",
   "metadata": {},
   "outputs": [],
   "source": [
    "S_range = np.linspace(80, 120, 50)\n",
    "call_prices = [BlackScholesPricer(s, K, T, r, sigma, call=True).price for s in S_range]\n",
    "put_prices = [BlackScholesPricer(s, K, T, r, sigma, call=False).price for s in S_range]\n",
    "\n",
    "plt.figure(figsize=(10, 6))\n",
    "plt.plot(S_range, call_prices, label='Call Option Price')\n",
    "plt.plot(S_range, put_prices, label='Put Option Price')\n",
    "plt.xlabel('Spot Price (S)')\n",
    "plt.ylabel('Option Price')\n",
    "plt.title('Option Price vs. Spot Price')\n",
    "plt.axvline(x=K, color='r', linestyle='--', label=f'Strike Price (K={K})')\n",
    "plt.legend()\n",
    "plt.show()"
   ]
  },
  {
   "cell_type": "markdown",
   "id": "f0f32d32",
   "metadata": {},
   "source": [
    "## 5. Option Price vs. Volatility"
   ]
  },
  {
   "cell_type": "code",
   "execution_count": null,
   "id": "e3d28da2",
   "metadata": {},
   "outputs": [],
   "source": [
    "sigma_range = np.linspace(0.01, 1.5, 100)\n",
    "call_prices_sigma = [BlackScholesPricer(S, K, T, r, sig, call=True).price for sig in sigma_range]\n",
    "put_prices_sigma = [BlackScholesPricer(S, K, T, r, sig, call=False).price for sig in sigma_range]\n",
    "\n",
    "plt.figure(figsize=(10, 6))\n",
    "plt.plot(sigma_range, call_prices_sigma, label='Call Option Price')\n",
    "plt.plot(sigma_range, put_prices_sigma, label='Put Option Price')\n",
    "plt.xlabel('Volatility (sigma)')\n",
    "plt.ylabel('Option Price')\n",
    "plt.title('Option Price vs. Volatility')\n",
    "plt.legend()\n",
    "plt.show()"
   ]
  },
  {
   "cell_type": "markdown",
   "id": "f01b1d51",
   "metadata": {},
   "source": [
    "## 6. Option Price vs. Time to Maturity"
   ]
  },
  {
   "cell_type": "code",
   "execution_count": null,
   "id": "51e8637e",
   "metadata": {},
   "outputs": [],
   "source": [
    "T_range = np.linspace(0.1, 2, 50)\n",
    "call_prices_T = [BlackScholesPricer(S, K, t, r, sigma, call=True).price for t in T_range]\n",
    "put_prices_T = [BlackScholesPricer(S, K, t, r, sigma, call=False).price for t in T_range]\n",
    "\n",
    "plt.figure(figsize=(10, 6))\n",
    "plt.plot(T_range, call_prices_T, label='Call Option Price')\n",
    "plt.plot(T_range, put_prices_T, label='Put Option Price')\n",
    "plt.xlabel('Time to Maturity (T)')\n",
    "plt.ylabel('Option Price')\n",
    "plt.title('Option Price vs. Time to Maturity')\n",
    "plt.legend()\n",
    "plt.show()"
   ]
  }
 ],
 "metadata": {
  "kernelspec": {
   "display_name": "Python 3",
   "language": "python",
   "name": "python3"
  },
  "language_info": {
   "codemirror_mode": {
    "name": "ipython",
    "version": 3
   },
   "file_extension": ".py",
   "mimetype": "text/x-python",
   "name": "python",
   "nbconvert_exporter": "python",
   "pygments_lexer": "ipython3",
   "version": "3.11.3"
  }
 },
 "nbformat": 4,
 "nbformat_minor": 5
}
